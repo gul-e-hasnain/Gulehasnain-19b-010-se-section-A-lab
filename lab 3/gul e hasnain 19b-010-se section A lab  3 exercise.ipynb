{
 "cells": [
  {
   "cell_type": "markdown",
   "metadata": {},
   "source": [
    "# Gul e Hasnain lab 3 exercise"
   ]
  },
  {
   "cell_type": "code",
   "execution_count": 4,
   "metadata": {},
   "outputs": [
    {
     "name": "stdout",
     "output_type": "stream",
     "text": [
      "enter the radius(in meters): 0.5\n",
      "5.0 m/s\n"
     ]
    }
   ],
   "source": [
    "# ex - 1\n",
    "radius = float(input(\"enter the radius(in meters): \"))\n",
    "angular_speed = 10\n",
    "velocity = radius * angular_speed\n",
    "print(velocity , \"m/s\")"
   ]
  },
  {
   "cell_type": "code",
   "execution_count": 8,
   "metadata": {},
   "outputs": [
    {
     "name": "stdout",
     "output_type": "stream",
     "text": [
      "enter the radius(in meters): 5\n",
      "enter number of revolution: 5000\n",
      "2617.993877991494 m/s\n"
     ]
    }
   ],
   "source": [
    "# Ex - 2\n",
    "from math import pi\n",
    "radius = float(input(\"enter the radius(in meters): \"))\n",
    "numberOfRevolution = float(input(\"enter number of revolution: \"))\n",
    "rpm = numberOfRevolution / 60\n",
    "angular_speed = rpm * 2 * pi\n",
    "linear_velocity = radius * angular_speed\n",
    "print(linear_velocity, \"m/s\")"
   ]
  },
  {
   "cell_type": "code",
   "execution_count": 30,
   "metadata": {},
   "outputs": [
    {
     "name": "stdout",
     "output_type": "stream",
     "text": [
      "enter the linear velocity (in m/s): 10\n",
      "enter the radius (in cm): 30\n",
      "33.333333333333336 rad/s\n"
     ]
    }
   ],
   "source": [
    "# ex - 3\n",
    "linear_velocity = float(input(\"enter the linear velocity (in m/s): \"))\n",
    "radius = float(input(\"enter the radius (in cm): \"))\n",
    "radius_in_meter = radius / 100\n",
    "angular_velocity = linear_velocity / radius_in_meter\n",
    "print(angular_velocity, \"rad/s\")"
   ]
  },
  {
   "cell_type": "code",
   "execution_count": 15,
   "metadata": {},
   "outputs": [
    {
     "name": "stdout",
     "output_type": "stream",
     "text": [
      "enter the linear speed (in m/s): 10\n",
      "enter the diameter (in cm): 50\n",
      "40.0 rad/s\n"
     ]
    }
   ],
   "source": [
    "# ex - 4\n",
    "linear_speed = float(input(\"enter the linear speed (in m/s): \"))\n",
    "diameter = float(input(\"enter the diameter (in cm): \"))\n",
    "radius_in_cm = diameter / 2\n",
    "radius_in_meter = radius_in_cm / 100\n",
    "angular_speed = linear_velocity / radius_in_meter\n",
    "print(angular_speed, \"rad/s\")"
   ]
  },
  {
   "cell_type": "code",
   "execution_count": 25,
   "metadata": {},
   "outputs": [
    {
     "name": "stdout",
     "output_type": "stream",
     "text": [
      "enter the radius (in cm): 20\n",
      "enter the revolution: 120\n",
      "25.132741228718345 m\n"
     ]
    }
   ],
   "source": [
    "# ex - 5\n",
    "time = 10\n",
    "radius_in_cm = float(input(\"enter the radius (in cm): \"))\n",
    "radius_in_meter = radius_in_cm / 100\n",
    "revolution = float(input(\"enter the revolution: \"))\n",
    "revolution_per_second = revolution / 60\n",
    "revolution_in_rpm = revolution_per_second * 2 * pi\n",
    "velocity = revolution_in_rpm * radius_in_meter\n",
    "distance = velocity * time\n",
    "print(distance , \"m\")"
   ]
  },
  {
   "cell_type": "code",
   "execution_count": 31,
   "metadata": {},
   "outputs": [
    {
     "name": "stdout",
     "output_type": "stream",
     "text": [
      "enter the velocity (in miles/hr): 50\n",
      "enter the acceleration (in miles/hrs ** 2): 10\n",
      "enter the time (in hrs): 2\n",
      "225308.16 m\n"
     ]
    }
   ],
   "source": [
    "# ex - 6\n",
    "u = float(input(\"enter the velocity (in miles/hr): \"))\n",
    "a = float(input(\"enter the acceleration (in miles/hrs ** 2): \"))\n",
    "t = float(input(\"enter the time (in hrs): \"))\n",
    "v = u + (a * t)\n",
    "distance = v * t\n",
    "distance_in_meter = distance * 1609.344\n",
    "print(distance_in_meter, \"m\")"
   ]
  },
  {
   "cell_type": "code",
   "execution_count": 15,
   "metadata": {},
   "outputs": [
    {
     "name": "stdout",
     "output_type": "stream",
     "text": [
      "enter the height (in feet): 100\n",
      "24.416381947501527 m/s\n"
     ]
    }
   ],
   "source": [
    "# ex - 7\n",
    "height = float(input(\"enter the height (in feet): \"))\n",
    "height_in_meter = height / 3.281\n",
    "a = 9.78\n",
    "u = 0\n",
    "v = sqrt((2 * a * height_in_meter) + u ** 2)\n",
    "print(v, \"m/s\")"
   ]
  }
 ],
 "metadata": {
  "kernelspec": {
   "display_name": "Python 3",
   "language": "python",
   "name": "python3"
  },
  "language_info": {
   "codemirror_mode": {
    "name": "ipython",
    "version": 3
   },
   "file_extension": ".py",
   "mimetype": "text/x-python",
   "name": "python",
   "nbconvert_exporter": "python",
   "pygments_lexer": "ipython3",
   "version": "3.7.3"
  }
 },
 "nbformat": 4,
 "nbformat_minor": 2
}
