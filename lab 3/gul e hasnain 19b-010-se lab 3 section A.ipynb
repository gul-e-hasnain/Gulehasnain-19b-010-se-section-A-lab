{
 "cells": [
  {
   "cell_type": "markdown",
   "metadata": {},
   "source": [
    "# Gul e hasnain Lab 3 Pf"
   ]
  },
  {
   "cell_type": "code",
   "execution_count": 2,
   "metadata": {},
   "outputs": [
    {
     "name": "stdout",
     "output_type": "stream",
     "text": [
      "sum is:  32\n",
      "Difference is:  -12\n",
      "Product is:  220\n",
      "Division is:  0.45454545454545453\n",
      "integer division is:  0\n",
      "Raised to the power is:  10000000000000000000000\n",
      "remainder is:  10\n"
     ]
    }
   ],
   "source": [
    "# Program 1\n",
    "# Maths OPerators In Python\n",
    "# taking two values\n",
    "a = 10\n",
    "b = 22\n",
    "# using sum operator\n",
    "print(\"sum is: \", a + b)\n",
    "# Using Subtract operator\n",
    "print(\"Difference is: \", a - b)\n",
    "# Using Multiplication Operator\n",
    "print(\"Product is: \", a * b)\n",
    "# Using Division Operator\n",
    "print(\"Division is: \", a / b)\n",
    "# using integer division operator\n",
    "print(\"integer division is: \", a // b)\n",
    "# using power oprator\n",
    "print(\"Raised to the power is: \", a ** b)\n",
    "# using modulo operator\n",
    "print(\"remainder is: \",a % b)"
   ]
  },
  {
   "cell_type": "code",
   "execution_count": 4,
   "metadata": {},
   "outputs": [
    {
     "name": "stdout",
     "output_type": "stream",
     "text": [
      "8\n",
      "2\n",
      "15\n",
      "1.6666666666666667\n",
      "2\n",
      "1\n",
      "125\n",
      "1\n",
      "7\n",
      "6\n",
      "0\n",
      "40\n"
     ]
    }
   ],
   "source": [
    "# program 2\n",
    "x = 5\n",
    "x += 3\n",
    "print(x)\n",
    "x = 5\n",
    "x -= 3\n",
    "print(x)\n",
    "x = 5\n",
    "x *= 3\n",
    "print(x)\n",
    "x = 5\n",
    "x /= 3\n",
    "print(x)\n",
    "x = 5\n",
    "x %= 3\n",
    "print(x)\n",
    "x = 5\n",
    "x //= 3\n",
    "print(x)\n",
    "x = 5\n",
    "x **= 3\n",
    "print(x)\n",
    "x = 5\n",
    "x &= 3\n",
    "print(x)\n",
    "x = 5\n",
    "x |= 3\n",
    "print(x)\n",
    "x = 5\n",
    "x ^= 3\n",
    "print(x)\n",
    "x = 5\n",
    "x >>= 3\n",
    "print(x)\n",
    "x = 5\n",
    "x <<= 3\n",
    "print(x)"
   ]
  },
  {
   "cell_type": "code",
   "execution_count": 5,
   "metadata": {},
   "outputs": [
    {
     "name": "stdout",
     "output_type": "stream",
     "text": [
      "X is equal to Y: False\n",
      "X is not equal to Y: True\n",
      "X is Greater than Y: True\n",
      "X is less than Y: False\n",
      "X is Greater than or equal to Y: True\n",
      "X is less than or equal to Y: False\n"
     ]
    }
   ],
   "source": [
    "# program 3\n",
    "x = 20\n",
    "y = 15\n",
    "print(\"X is equal to Y:\", x == y)\n",
    "print(\"X is not equal to Y:\", x != y)\n",
    "print(\"X is Greater than Y:\", x > y)\n",
    "print(\"X is less than Y:\", x < y)\n",
    "print(\"X is Greater than or equal to Y:\", x >= y)\n",
    "print(\"X is less than or equal to Y:\", x <= y)"
   ]
  },
  {
   "cell_type": "code",
   "execution_count": 6,
   "metadata": {},
   "outputs": [
    {
     "name": "stdout",
     "output_type": "stream",
     "text": [
      "True\n",
      "True\n",
      "False\n"
     ]
    }
   ],
   "source": [
    "# program 4\n",
    "x = 15\n",
    "print(x > 13 and x < 20)\n",
    "x = 25\n",
    "print(x > 23 or X < 24)\n",
    "x = 35\n",
    "print(not(x > 33 and x < 40))"
   ]
  },
  {
   "cell_type": "code",
   "execution_count": 8,
   "metadata": {},
   "outputs": [
    {
     "name": "stdout",
     "output_type": "stream",
     "text": [
      "True\n",
      "False\n",
      "True\n"
     ]
    }
   ],
   "source": [
    "# program 5\n",
    "x = [\"ahmed\", \"bashir\"]\n",
    "y = [\"ahmed\", \"bashir\"]\n",
    "z = x\n",
    "print(x is z)\n",
    "print(x is y)\n",
    "print(x == y)"
   ]
  },
  {
   "cell_type": "code",
   "execution_count": 11,
   "metadata": {},
   "outputs": [
    {
     "name": "stdout",
     "output_type": "stream",
     "text": [
      "False\n",
      "True\n",
      "False\n"
     ]
    }
   ],
   "source": [
    "# program 6\n",
    "x = [\"ahmed\", \"bashir\"]\n",
    "y = [\"ahmed\", \"bashir\"]\n",
    "z = x\n",
    "print(x is not z)\n",
    "print(x is not y)\n",
    "print(x != y)"
   ]
  },
  {
   "cell_type": "code",
   "execution_count": 12,
   "metadata": {},
   "outputs": [
    {
     "name": "stdout",
     "output_type": "stream",
     "text": [
      "True\n"
     ]
    }
   ],
   "source": [
    "# program 7\n",
    "x = [\"wasim\", \"lubaid\", \"shahroz\", \"usman\", \"faisal\", \"farhan\"]\n",
    "print(\"faisal\" in x)"
   ]
  },
  {
   "cell_type": "code",
   "execution_count": 13,
   "metadata": {},
   "outputs": [
    {
     "name": "stdout",
     "output_type": "stream",
     "text": [
      "True\n"
     ]
    }
   ],
   "source": [
    "# program 8\n",
    "x = [\"wasim\", \"lubaid\", \"shahroz\", \"usman\", \"faisal\", \"farhan\"]\n",
    "print(\"parkash\" not in x)"
   ]
  },
  {
   "cell_type": "code",
   "execution_count": 20,
   "metadata": {},
   "outputs": [
    {
     "name": "stdout",
     "output_type": "stream",
     "text": [
      "Give me a velocity to fire at(in m/s): 10\n",
      "Give me an angle to fire at: 55\n",
      "Give me how far away you are from the structure: 25\n",
      "Give me the height of the structure(in meters): 40\n",
      "41.899220599538744 m/s\n"
     ]
    }
   ],
   "source": [
    "# program 9\n",
    "import math\n",
    "# user inputs\n",
    "velocity = float(input('Give me a velocity to fire at(in m/s): '))\n",
    "angle = float(input('Give me an angle to fire at: '))\n",
    "distance = float(input('Give me how far away you are from the structure: '))\n",
    "height = float(input('Give me the height of the structure(in meters): '))\n",
    "slingshot = 5 # Height of slingshot in meters\n",
    "gravity = 9.8 # earth gravity\n",
    "\n",
    "#Converting angles to radian\n",
    "angleRad = math.radians(angle)\n",
    "\n",
    "# computing our x and y coordinate\n",
    "x = math.cos(angleRad)\n",
    "y = math.sin(angleRad)\n",
    "\n",
    "# Calculations\n",
    "time = distance/(velocity * x)\n",
    "vx = x\n",
    "vy = y + (-9.8 * time)\n",
    "finalVelocity = math.sqrt((vx ** 2) + (vy ** 2))\n",
    "print(finalVelocity ,\"m/s\")"
   ]
  }
 ],
 "metadata": {
  "kernelspec": {
   "display_name": "Python 3",
   "language": "python",
   "name": "python3"
  },
  "language_info": {
   "codemirror_mode": {
    "name": "ipython",
    "version": 3
   },
   "file_extension": ".py",
   "mimetype": "text/x-python",
   "name": "python",
   "nbconvert_exporter": "python",
   "pygments_lexer": "ipython3",
   "version": "3.6.5"
  }
 },
 "nbformat": 4,
 "nbformat_minor": 2
}
