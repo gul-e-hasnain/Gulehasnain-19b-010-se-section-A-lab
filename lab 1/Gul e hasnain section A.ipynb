{
 "cells": [
  {
   "cell_type": "code",
   "execution_count": 3,
   "metadata": {
    "collapsed": false
   },
   "outputs": [
    {
     "name": "stdout",
     "output_type": "stream",
     "text": [
      "what is your name: hasnain\n",
      "what is you age: 19\n",
      "hasnain will be 100 years old in the year 2100\n"
     ]
    }
   ],
   "source": [
    "name = input(\"what is your name: \")\n",
    "age = int(input(\"what is you age: \"))\n",
    "year = str((2019 - age)+100)\n",
    "print(name + \" will be 100 years old in the year \" + year)\n"
   ]
  },
  {
   "cell_type": "code",
   "execution_count": 4,
   "metadata": {
    "collapsed": false
   },
   "outputs": [
    {
     "name": "stdout",
     "output_type": "stream",
     "text": [
      "degree in centigrade: 15\n",
      "59\n"
     ]
    }
   ],
   "source": [
    "# ex-1\n",
    "cent = int(input(\"degree in centigrade: \"))\n",
    "fah = int((cent * 9/5)+32)\n",
    "print(fah)"
   ]
  },
  {
   "cell_type": "code",
   "execution_count": 7,
   "metadata": {
    "collapsed": false
   },
   "outputs": [
    {
     "name": "stdout",
     "output_type": "stream",
     "text": [
      "degree in fahrenheit: 15\n",
      "-9\n"
     ]
    }
   ],
   "source": [
    "# ex-2\n",
    "fah = int(input(\"degree in fahrenheit: \"))\n",
    "cent = int((fah - 32) * 5/9)\n",
    "print(cent)"
   ]
  },
  {
   "cell_type": "code",
   "execution_count": 13,
   "metadata": {
    "collapsed": false
   },
   "outputs": [
    {
     "name": "stdout",
     "output_type": "stream",
     "text": [
      "enter the length of the rectangle: 5\n",
      "enter the breath of the rectangle: 2\n",
      "10\n"
     ]
    }
   ],
   "source": [
    "# ex-3\n",
    "length = int(input(\"enter the length of the rectangle: \"))\n",
    "breadth = int(input(\"enter the breadth of the rectangle: \"))\n",
    "area = (length * breadth)\n",
    "print(area)\n"
   ]
  },
  {
   "cell_type": "code",
   "execution_count": 15,
   "metadata": {
    "collapsed": false
   },
   "outputs": [
    {
     "name": "stdout",
     "output_type": "stream",
     "text": [
      "enter the radius of sphere: 2\n",
      "33.510321638291124\n"
     ]
    }
   ],
   "source": [
    "# ex-4\n",
    "from math import pi\n",
    "radius = float(input(\"enter the radius of sphere: \"))\n",
    "area = (4/3 * pi * radius**3)\n",
    "print(area)"
   ]
  },
  {
   "cell_type": "code",
   "execution_count": 44,
   "metadata": {
    "collapsed": false
   },
   "outputs": [
    {
     "name": "stdout",
     "output_type": "stream",
     "text": [
      "what is your name: ali\n",
      "ALI ali Ali\n"
     ]
    }
   ],
   "source": [
    "# ex-5\n",
    "name = input(\"what is your name: \")\n",
    "u = name.upper()\n",
    "l = name.lower()\n",
    "t = name.title()\n",
    "print(u +\" \"+l+\" \"+t)"
   ]
  },
  {
   "cell_type": "code",
   "execution_count": 46,
   "metadata": {
    "collapsed": false
   },
   "outputs": [
    {
     "name": "stdout",
     "output_type": "stream",
     "text": [
      "Twinkle, twinkle, little star, \n",
      "\tHOw I wonder what you are! \n",
      "\t\tUp Above the world so high, \n",
      "\t\tLike a diamond in the sky. \n",
      "Twinkle, twinkle, little star, \n",
      "\tHow I wonder what you are!\n"
     ]
    }
   ],
   "source": [
    "print(\"Twinkle, twinkle, little star, \\n\\tHOw I wonder what you are! \\n\\t\\tUp Above the world so high, \\n\\t\\tLike a diamond in the sky. \\nTwinkle, twinkle, little star, \\n\\tHow I wonder what you are!\")"
   ]
  },
  {
   "cell_type": "code",
   "execution_count": 52,
   "metadata": {
    "collapsed": false
   },
   "outputs": [
    {
     "name": "stdout",
     "output_type": "stream",
     "text": [
      "enter the radius of the circle: 2\n",
      "The area of circle with the radius 2.0 is: 12.566370614359172\n"
     ]
    }
   ],
   "source": [
    "from math import pi\n",
    "Radius = float(input(\"enter the radius of the circle: \"))\n",
    "print(\"The area of circle with the radius \" + str(Radius) + \" is: \" + str(pi * Radius**2))"
   ]
  },
  {
   "cell_type": "code",
   "execution_count": 53,
   "metadata": {
    "collapsed": false
   },
   "outputs": [
    {
     "name": "stdout",
     "output_type": "stream",
     "text": [
      "enter your first name: hasnain\n",
      "enter your last name: waseem\n",
      "Hello waseem hasnain\n"
     ]
    }
   ],
   "source": [
    "fname = input(\"enter your first name: \")\n",
    "lname = input(\"enter your last name: \")\n",
    "print(\"Hello \" + lname + \" \" + fname)"
   ]
  },
  {
   "cell_type": "code",
   "execution_count": 54,
   "metadata": {
    "collapsed": false
   },
   "outputs": [
    {
     "name": "stdout",
     "output_type": "stream",
     "text": [
      "input the year: 2019\n",
      "input the month: 10\n",
      "    October 2019\n",
      "Mo Tu We Th Fr Sa Su\n",
      "    1  2  3  4  5  6\n",
      " 7  8  9 10 11 12 13\n",
      "14 15 16 17 18 19 20\n",
      "21 22 23 24 25 26 27\n",
      "28 29 30 31\n",
      "\n"
     ]
    }
   ],
   "source": [
    "import calendar\n",
    "y = int(input(\"input the year: \"))\n",
    "m = int(input(\"input the month: \"))\n",
    "print(calendar.month(y, m))"
   ]
  }
 ],
 "metadata": {
  "anaconda-cloud": {},
  "kernelspec": {
   "display_name": "Python [Root]",
   "language": "python",
   "name": "Python [Root]"
  },
  "language_info": {
   "codemirror_mode": {
    "name": "ipython",
    "version": 3
   },
   "file_extension": ".py",
   "mimetype": "text/x-python",
   "name": "python",
   "nbconvert_exporter": "python",
   "pygments_lexer": "ipython3",
   "version": "3.5.2"
  }
 },
 "nbformat": 4,
 "nbformat_minor": 0
}
