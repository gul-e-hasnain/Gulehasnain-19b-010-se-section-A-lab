{
 "cells": [
  {
   "cell_type": "code",
   "execution_count": null,
   "metadata": {
    "collapsed": true
   },
   "outputs": [],
   "source": [
    "# Gul e hasnain 19B-010-SE Section: A Lab(2)"
   ]
  },
  {
   "cell_type": "code",
   "execution_count": 7,
   "metadata": {
    "collapsed": false
   },
   "outputs": [
    {
     "name": "stdout",
     "output_type": "stream",
     "text": [
      "[10, 22, 44, 23, 4]\n",
      "[10, 22, 44, 23, 4]\n"
     ]
    }
   ],
   "source": [
    "# rogram 1\n",
    "original_list = [10, 22, 44, 23, 4]\n",
    "new_list2 = list(original_list1)\n",
    "print(original_list1)\n",
    "print(new_list2)"
   ]
  },
  {
   "cell_type": "code",
   "execution_count": 9,
   "metadata": {
    "collapsed": false
   },
   "outputs": [
    {
     "name": "stdout",
     "output_type": "stream",
     "text": [
      "()\n",
      "()\n"
     ]
    }
   ],
   "source": [
    "#program 2\n",
    "# create an empty tuple\n",
    "x = ()\n",
    "print(x)\n",
    "# creat an empty typle with tuple() function built-in python\n",
    "tuple1 = tuple()\n",
    "print(tuple1)"
   ]
  },
  {
   "cell_type": "code",
   "execution_count": 10,
   "metadata": {
    "collapsed": false
   },
   "outputs": [
    {
     "name": "stdout",
     "output_type": "stream",
     "text": [
      "('tuple', False, 3.2, 1)\n"
     ]
    }
   ],
   "source": [
    "# program 3\n",
    "# create a tuple with different data types\n",
    "tuple2 = (\"tuple\", False, 3.2, 1)\n",
    "print(tuple2)"
   ]
  },
  {
   "cell_type": "code",
   "execution_count": 11,
   "metadata": {
    "collapsed": false
   },
   "outputs": [
    {
     "name": "stdout",
     "output_type": "stream",
     "text": [
      "('U', 'I', 'T', 2, 0, 1, 8, 'b', 'a', 't', 'c', 'h')\n",
      "2\n",
      "a\n"
     ]
    }
   ],
   "source": [
    "# program 4\n",
    "# get an item of the tuple\n",
    "tuplex = (\"U\", \"I\", \"T\", 2, 0, 1, 8, \"b\", \"a\", \"t\", \"c\", \"h\")\n",
    "print(tuplex)\n",
    "# get item (4th element) of the tupke by index\n",
    "item = tuplex[3]\n",
    "print(item)\n",
    "# get item (4th element from last) by index negative\n",
    "item1 = tuplex[-4]\n",
    "print(item1)"
   ]
  },
  {
   "cell_type": "code",
   "execution_count": 17,
   "metadata": {
    "collapsed": false
   },
   "outputs": [
    {
     "name": "stdout",
     "output_type": "stream",
     "text": [
      "[2, 3, 4, 5, 6]\n",
      "[2, 3, 4, 5, 6]\n",
      "[]\n",
      "[2, 3, 4, 5, 6]\n"
     ]
    }
   ],
   "source": [
    "# program 5\n",
    "lst = [2, 3, 4]\n",
    "lst.extend([5, 6])\n",
    "print(lst)\n",
    "# list is extended 5 And 6 are added to lst\n",
    "lst2 = lst.copy()\n",
    "print(lst2)\n",
    "# lst is copied and store in lst2 but it is also present in lst\n",
    "lst.clear()\n",
    "print(lst)\n",
    "# data of lst is cleared\n",
    "print(lst2)\n",
    "#data is still present in lst2"
   ]
  }
 ],
 "metadata": {
  "kernelspec": {
   "display_name": "Python [Root]",
   "language": "python",
   "name": "Python [Root]"
  },
  "language_info": {
   "codemirror_mode": {
    "name": "ipython",
    "version": 3
   },
   "file_extension": ".py",
   "mimetype": "text/x-python",
   "name": "python",
   "nbconvert_exporter": "python",
   "pygments_lexer": "ipython3",
   "version": "3.5.2"
  }
 },
 "nbformat": 4,
 "nbformat_minor": 2
}
