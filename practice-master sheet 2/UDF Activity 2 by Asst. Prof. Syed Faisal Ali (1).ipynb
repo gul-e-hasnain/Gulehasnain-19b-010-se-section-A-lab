{
 "cells": [
  {
   "cell_type": "markdown",
   "metadata": {},
   "source": [
    "# Gul e Hasnain 19b-010-se Section A"
   ]
  },
  {
   "cell_type": "markdown",
   "metadata": {},
   "source": [
    "# Python User Define Function Practice Activity - 2 "
   ]
  },
  {
   "cell_type": "markdown",
   "metadata": {},
   "source": [
    "Asst. Prof. Syed Faisal Ali              $\\;\\;\\;\\;\\;\\;$              Programming Fundamentals - FALL 2019 $\\;\\;\\;\\;\\;\\;$ Software Engineering                     $\\;\\;\\;\\;\\;\\;$                   Dated: 27 Nov 2019"
   ]
  },
  {
   "cell_type": "markdown",
   "metadata": {},
   "source": [
    "Question 1: Create a function to find the following:\n",
    "If the base of triangle is 3 cm long and its equilateral triangle and the radius of circle is 1.5 cm then find the area of triangle shaded. \n"
   ]
  },
  {
   "cell_type": "markdown",
   "metadata": {},
   "source": [
    "![proj](q1.jpg)"
   ]
  },
  {
   "cell_type": "code",
   "execution_count": 3,
   "metadata": {},
   "outputs": [
    {
     "name": "stdout",
     "output_type": "stream",
     "text": [
      "Area of One Triangle is: 3.897114317029974 cm²\n",
      "Area of Shaded Region is:  16.31410243160281 cm²\n"
     ]
    }
   ],
   "source": [
    "from math import pi, sin\n",
    "def shadedArea(base, radius):\n",
    "    height = base * (sin(60 * pi/180))\n",
    "    area = (1/2) * base * height\n",
    "    print(\"Area of One Triangle is:\", area, \"cm\\u00b2\")\n",
    "    area_circle = pi * (radius**2)\n",
    "    area_shaded = (area * 6) - (area_circle)\n",
    "    print(\"Area of Shaded Region is: \", area_shaded, \"cm\\u00b2\")\n",
    "    return\n",
    "base = 3\n",
    "radius = 1.5\n",
    "shadedArea(base, radius)    "
   ]
  },
  {
   "cell_type": "markdown",
   "metadata": {},
   "source": [
    "Question 2: Create a function which can read a dictionary of your family members such as 5 members. \n",
    "1 Abbu, 1 Ammi, 2 Brothers 1 Sister. Now feed this data in dictionary in terms of name and relations.\n",
    "The UDF will ask findrelation() in this you will enter Brother it will return the names of two brothers you have inserted. In case if the relation is not found it will return “Sorry the relation doesn’t exist in your family.” \n"
   ]
  },
  {
   "cell_type": "code",
   "execution_count": 4,
   "metadata": {},
   "outputs": [
    {
     "name": "stdout",
     "output_type": "stream",
     "text": [
      "relationship finder: brother\n",
      "name:  Gul e hasnain, hamza\n"
     ]
    }
   ],
   "source": [
    "def findrelation(x):\n",
    "    family = {\"father\":\"Waseem\", \"mother\":\"Shagufta\", \"brother\":\"Gul e hasnain, hamza\", \"sister\":\"Tooba\"}\n",
    "    if x == \"father\" or x == \"mother\" or x  == \"brother\" or x == \"sister\":\n",
    "        print(\"name: \",family[x])\n",
    "    else:\n",
    "        print(\"sorry! no relation found\")\n",
    "    return\n",
    "x = str(input(\"relationship finder: \"))\n",
    "findrelation(x)"
   ]
  },
  {
   "cell_type": "markdown",
   "metadata": {},
   "source": [
    "Question 3: Create a function to find the following:\n",
    "If the base of triangle is 5 cm long and its equilateral triangle and the radius of circle is 2.25 cm then find the area of triangle shaded. \n"
   ]
  },
  {
   "cell_type": "markdown",
   "metadata": {},
   "source": [
    "![proj](q3.jpg)"
   ]
  },
  {
   "cell_type": "code",
   "execution_count": 4,
   "metadata": {},
   "outputs": [
    {
     "name": "stdout",
     "output_type": "stream",
     "text": [
      "Enter radius in cm: 2.25\n",
      "Shaded area in one triangle is:  2.650718801466388 cm²\n"
     ]
    }
   ],
   "source": [
    "from math import pi\n",
    "\n",
    "def shadedarea(radius):\n",
    "    \n",
    "    area = (pi* radius**2)/6\n",
    "    print(\"Shaded area in one triangle is: \",area,\"cm\\u00b2\")\n",
    "    return\n",
    "radius = eval(input(\"Enter radius in cm: \"))\n",
    "shadedarea(radius)"
   ]
  },
  {
   "cell_type": "markdown",
   "metadata": {},
   "source": [
    "Question 4:\n",
    "Create a function that takes a list of random numbers from users and add only those which are even. If all the numbers are odd it will return sorry no even number found.\n"
   ]
  },
  {
   "cell_type": "code",
   "execution_count": 26,
   "metadata": {},
   "outputs": [
    {
     "name": "stdout",
     "output_type": "stream",
     "text": [
      "Enter the size of list: 4\n",
      "Enter the number at location: 0\n",
      "1\n",
      "Enter the number at location: 1\n",
      "3\n",
      "Enter the number at location: 2\n",
      "2\n",
      "Enter the number at location: 3\n",
      "4\n",
      "[1, 3, 2, 4]\n",
      "sorry odd number\n",
      "[2]\n",
      "The Sum of even number in list is:  2\n",
      "[2, 4]\n",
      "The Sum of even number in list is:  6\n",
      "sorry odd number\n",
      "[2, 4, 2]\n",
      "The Sum of even number in list is:  8\n",
      "[2, 4, 2, 4]\n",
      "The Sum of even number in list is:  12\n"
     ]
    }
   ],
   "source": [
    "list = []\n",
    "x = int(input(\"Enter the size of list: \"))\n",
    "for i in range(0,x):\n",
    "    print(\"Enter the number at location:\", i)\n",
    "    number = int(input())\n",
    "    list.append(number)\n",
    "print(list)\n",
    "def evenAdder(list):\n",
    "    even = []\n",
    "    odd = []\n",
    "    for i in list:\n",
    "        if (i % 2 == 1):\n",
    "            print(\"sorry odd number\")\n",
    "            for i in list:\n",
    "                if (i % 2 == 0):\n",
    "                    even.append(i)\n",
    "                    print(even)\n",
    "                    sumofeven = sum(even)\n",
    "                    print(\"The Sum of even number in list is: \",sumofeven)\n",
    "    return\n",
    "evenAdder(list)\n",
    "        \n",
    "    "
   ]
  },
  {
   "cell_type": "markdown",
   "metadata": {},
   "source": [
    "Question 5:\n",
    "Write a function which can take a list of numbers and it will return sorted list.\n"
   ]
  },
  {
   "cell_type": "code",
   "execution_count": 28,
   "metadata": {},
   "outputs": [
    {
     "name": "stdout",
     "output_type": "stream",
     "text": [
      "Enter the size of list: 6\n",
      "Enter the number at location: 0\n",
      "7\n",
      "Enter the number at location: 1\n",
      "9\n",
      "Enter the number at location: 2\n",
      "4\n",
      "Enter the number at location: 3\n",
      "2\n",
      "Enter the number at location: 4\n",
      "6\n",
      "Enter the number at location: 5\n",
      "5\n",
      "[7, 9, 4, 2, 6, 5]\n",
      "[2, 4, 5, 6, 7, 9]\n"
     ]
    }
   ],
   "source": [
    "list = []\n",
    "x = int(input(\"Enter the size of list: \"))\n",
    "for i in range(0,x):\n",
    "    print(\"Enter the number at location:\", i)\n",
    "    number = int(input())\n",
    "    list.append(number)\n",
    "print(list)\n",
    "def sortList(list):\n",
    "    list.sort()\n",
    "    print(list)\n",
    "    return\n",
    "sortList(list)"
   ]
  },
  {
   "cell_type": "raw",
   "metadata": {},
   "source": [
    "# Question 6:\n",
    "Write a function that will take the radius and return the perimeter and area of circle with 5% increment.\n"
   ]
  },
  {
   "cell_type": "code",
   "execution_count": 1,
   "metadata": {},
   "outputs": [
    {
     "name": "stdout",
     "output_type": "stream",
     "text": [
      "Enter the radius of circle: 3\n",
      "The area of circle with 5% increment is:  29.688050576423546 cm²\n",
      "The perimeter of circle with 5% increment is:  19.792033717615695 cm\n"
     ]
    }
   ],
   "source": [
    "from math import pi\n",
    "def circle(radius):\n",
    "    areaofcircle = pi * (radius**2)\n",
    "    perimeter = 2 * pi * radius\n",
    "    inc_areaofcircle = (areaofcircle * 0.05) + areaofcircle\n",
    "    inc_perimeter = (perimeter * 0.05) + perimeter\n",
    "    print(\"The area of circle with 5% increment is: \",inc_areaofcircle,\"cm\\u00b2\\nThe perimeter of circle with 5% increment is: \",inc_perimeter,\"cm\")\n",
    "    return\n",
    "radius = eval(input(\"Enter the radius of circle: \"))\n",
    "circle(radius)"
   ]
  },
  {
   "cell_type": "markdown",
   "metadata": {},
   "source": [
    "Question 7:\n",
    "Write a function that will take the strings as argument and return number of vowels and consonants.\n"
   ]
  },
  {
   "cell_type": "code",
   "execution_count": 33,
   "metadata": {},
   "outputs": [
    {
     "name": "stdout",
     "output_type": "stream",
     "text": [
      "Enter your name: gul e hasnain\n",
      "The numbers of vowels in gul e hasnain is:  5 \n",
      "The numbers of consnants in gul e hasnain is:  8\n"
     ]
    }
   ],
   "source": [
    "def counter(name):\n",
    "    vowel = 0\n",
    "    consonant = 0\n",
    "    for i in name:\n",
    "        if i in \"AEIOUaeiou\":\n",
    "            vowel = vowel + 1\n",
    "        else:\n",
    "            consonant = consonant + 1\n",
    "    print(\"The numbers of vowels in\",name, \"is: \",vowel,\"\\nThe numbers of consnants in\",name,\"is: \",consonant)\n",
    "    return\n",
    "name = str(input(\"Enter your name: \"))\n",
    "counter(name)"
   ]
  },
  {
   "cell_type": "markdown",
   "metadata": {},
   "source": [
    "Question 8:\n",
    "Write a function that will take length and breadth for a rectangle and return perimeter and area of rectangle with 8% increment.\n"
   ]
  },
  {
   "cell_type": "code",
   "execution_count": 35,
   "metadata": {},
   "outputs": [
    {
     "name": "stdout",
     "output_type": "stream",
     "text": [
      "Enter the length of rectangle: 7\n",
      "Enter the breadth of rectangle: 6\n",
      "The area of rectangle with 8% increment is:  45.36 cm²\n",
      "The perimeter of rectangle with 8% increment is:  28.08 cm\n"
     ]
    }
   ],
   "source": [
    "def rectangle(length,breadth):\n",
    "    area = length * breadth\n",
    "    perimeter = (2 * length) + (2 * breadth)\n",
    "    inc_area = (area * 0.08) + area\n",
    "    inc_perimeter = (perimeter * 0.08) + perimeter\n",
    "    print(\"The area of rectangle with 8% increment is: \",inc_area,\"cm\\u00b2\\nThe perimeter of rectangle with 8% increment is: \",inc_perimeter,\"cm\")\n",
    "    return\n",
    "length = int(input(\"Enter the length of rectangle: \"))\n",
    "breadth = int(input(\"Enter the breadth of rectangle: \"))\n",
    "rectangle(length,breadth)"
   ]
  },
  {
   "cell_type": "markdown",
   "metadata": {},
   "source": [
    "Question 9:\n",
    "Write a function that can take the numbers in strings. From string find which number is even and which one is odd. Save them in two different lists and generate the result.\n"
   ]
  },
  {
   "cell_type": "code",
   "execution_count": 11,
   "metadata": {},
   "outputs": [
    {
     "name": "stdout",
     "output_type": "stream",
     "text": [
      "Enter the number: 4\n",
      "The even list is  ['4']\n"
     ]
    }
   ],
   "source": [
    "def evenOdd(number):\n",
    "    x = int(number)\n",
    "    even = []\n",
    "    odd = []\n",
    "    if (x % 2 == 0):\n",
    "        x = str(number)\n",
    "        even.append(x)\n",
    "        print(\"The even list is \", even)\n",
    "    else:\n",
    "        x = str(number)\n",
    "        odd.append(x)    \n",
    "        print(\"The odd list is \", odd)\n",
    "    return\n",
    "number = str(input(\"Enter the number: \"))\n",
    "evenOdd(number)"
   ]
  },
  {
   "cell_type": "markdown",
   "metadata": {},
   "source": [
    "Question 10:\n",
    "Write a function which will take the string from the user and return how many alphabets have been used in it and which alphabets are missing.\n"
   ]
  },
  {
   "cell_type": "code",
   "execution_count": null,
   "metadata": {},
   "outputs": [],
   "source": []
  },
  {
   "cell_type": "markdown",
   "metadata": {},
   "source": [
    "Question 11:\n",
    "Write a function that will take verbs in words and return a list of verbs with continuous tense by adding (ing) at the end of each verb.\n"
   ]
  },
  {
   "cell_type": "code",
   "execution_count": 3,
   "metadata": {},
   "outputs": [
    {
     "name": "stdout",
     "output_type": "stream",
     "text": [
      "Enter the verb: play\n",
      "['playing']\n"
     ]
    }
   ],
   "source": [
    "def verb(v):\n",
    "    verblist = []\n",
    "    x = (v + \"ing\")\n",
    "    verblist.append(x)\n",
    "    print(verblist)\n",
    "    return\n",
    "v = str(input(\"Enter the verb: \"))\n",
    "verb(v)"
   ]
  },
  {
   "cell_type": "markdown",
   "metadata": {},
   "source": [
    "Question 12:\n",
    "Make a function which can take two radius of circles and find the areas of it and subtract smaller one from larger one and tell the remaining area of circle.\n"
   ]
  },
  {
   "cell_type": "code",
   "execution_count": 4,
   "metadata": {},
   "outputs": [
    {
     "name": "stdout",
     "output_type": "stream",
     "text": [
      "Enter the radius of circle1: 5\n",
      "Enter the radius of circle2: 3\n",
      "Area of 1st circle is:  78.53981633974483 cm²\n",
      "Area of 2nd circle is:  28.274333882308138 cm²\n",
      "The remaining area is: 50.26548245743669 cm²\n"
     ]
    }
   ],
   "source": [
    "from math import pi\n",
    "def area(r1,r2):\n",
    "    area1 = pi * r1**2\n",
    "    print(\"Area of 1st circle is: \",area1,\"cm\\u00b2\")\n",
    "    area2 = pi * r2**2\n",
    "    print(\"Area of 2nd circle is: \",area2,\"cm\\u00b2\")\n",
    "    if r1 > r2:\n",
    "        x = area1 - area2\n",
    "        print(\"The remaining area is:\", x, \"cm\\u00b2\")\n",
    "    else:\n",
    "        x = area2 - area1\n",
    "        print(\"The remaining area is:\", x, \"cm\\u00b2\")\n",
    "    return\n",
    "r1 = eval(input(\"Enter the radius of circle1: \"))\n",
    "r2 = eval(input(\"Enter the radius of circle2: \"))\n",
    "area(r1, r2)"
   ]
  },
  {
   "cell_type": "markdown",
   "metadata": {},
   "source": [
    "Question 13:\n",
    "Write a function that will take a string and calculate number of Upper case letters and lower case letters.\n"
   ]
  },
  {
   "cell_type": "code",
   "execution_count": 6,
   "metadata": {},
   "outputs": [
    {
     "name": "stdout",
     "output_type": "stream",
     "text": [
      "ENter string: GuleHasnain\n",
      "Number of lower case:  9\n",
      "number of upper case:  2\n"
     ]
    }
   ],
   "source": [
    "def counter(s):\n",
    "    c_upper = 0\n",
    "    c_lower = 0\n",
    "    for i in s:\n",
    "        if(i.islower()):\n",
    "            c_lower =c_lower + 1\n",
    "        elif(i.isupper()):\n",
    "            c_upper =c_upper+1\n",
    "    print(\"Number of lower case: \",c_lower)\n",
    "    print(\"number of upper case: \",c_upper)\n",
    "    return\n",
    "s=str(input(\"ENter string: \"))\n",
    "counter(s)"
   ]
  },
  {
   "cell_type": "markdown",
   "metadata": {},
   "source": [
    "Question 14:\n",
    "Write a function which will take length and breadth of two rectangles. Subtract the smaller rectangle from the larger rectangle and return the area left behind.\n"
   ]
  },
  {
   "cell_type": "code",
   "execution_count": 5,
   "metadata": {},
   "outputs": [
    {
     "name": "stdout",
     "output_type": "stream",
     "text": [
      "Enter the length of 1st rectangle: 4\n",
      "Enter the breadth of 1st rectangle: 5\n",
      "Enter the length of 2nd rectangle: 6\n",
      "Enter the breadth of 2nd rectangle: 8\n",
      "The area of 1st rectangle is:  20 cm²\n",
      "The area of 2nd rectangle is:  48 cm²\n",
      "The remaining area is:  28 cm²\n"
     ]
    }
   ],
   "source": [
    "def rectanglearea(l1,l2,b1,b2):\n",
    "    area1 = l1 * b1\n",
    "    print(\"The area of 1st rectangle is: \", area1,\"cm\\u00b2\")\n",
    "    area2 = l2 * b2\n",
    "    print(\"The area of 2nd rectangle is: \", area2,\"cm\\u00b2\")\n",
    "    if l1 > l2 or b1 > b2:\n",
    "        x = area1 - area2\n",
    "        print(\"The remaining area is: \",x,\"cm\\u00b2\")\n",
    "    else:\n",
    "        x = area2 - area1\n",
    "        print(\"The remaining area is: \",x,\"cm\\u00b2\")\n",
    "    return\n",
    "l1 = eval(input(\"Enter the length of 1st rectangle: \"))\n",
    "b1 = eval(input(\"Enter the breadth of 1st rectangle: \"))\n",
    "l2 = eval(input(\"Enter the length of 2nd rectangle: \"))\n",
    "b2 = eval(input(\"Enter the breadth of 2nd rectangle: \"))\n",
    "rectanglearea(l1,l2,b1,b2)"
   ]
  },
  {
   "cell_type": "markdown",
   "metadata": {},
   "source": [
    "Question 15:\n",
    "Create a function that can add the fractions in series such as 1 to 8 = 1/8+1/7+1/6+1/5 …… ½ and return the result in fraction not in decimal.\n"
   ]
  },
  {
   "cell_type": "code",
   "execution_count": 1,
   "metadata": {},
   "outputs": [
    {
     "name": "stdout",
     "output_type": "stream",
     "text": [
      "Enter starting value: 1\n",
      "Enter ending value: 8\n",
      "The sum of fractions is:  363/140\n"
     ]
    }
   ],
   "source": [
    "from fractions import Fraction\n",
    "def addfraction(start,last):\n",
    "    sum = 0\n",
    "    for i in range(start,last):\n",
    "        sum = sum +Fraction(1,i)\n",
    "    print(\"The sum of fractions is: \",sum)\n",
    "    return\n",
    "start = int(input(\"Enter starting value: \"))\n",
    "last = int(input(\"Enter ending value: \"))\n",
    "addfraction(start,last)"
   ]
  },
  {
   "cell_type": "markdown",
   "metadata": {},
   "source": [
    "Question 16:\n",
    "Write a function which will take height and base for a triangle and \n"
   ]
  },
  {
   "cell_type": "code",
   "execution_count": null,
   "metadata": {},
   "outputs": [],
   "source": []
  },
  {
   "cell_type": "markdown",
   "metadata": {},
   "source": [
    "Question 17:\n",
    "Write a function which will take a list of fruits names. The function will return how many alphabets are repetitive in the names of fruits and how many are unique letters.\n"
   ]
  },
  {
   "cell_type": "code",
   "execution_count": null,
   "metadata": {},
   "outputs": [],
   "source": []
  },
  {
   "cell_type": "markdown",
   "metadata": {},
   "source": [
    "Question 18:\n",
    "Write a function that can take square length and radius of circle. Find the area of both and subtract the smallest shape from largest one and return the remaining shape area.\n"
   ]
  },
  {
   "cell_type": "code",
   "execution_count": 2,
   "metadata": {},
   "outputs": [
    {
     "name": "stdout",
     "output_type": "stream",
     "text": [
      "Enter Length square: 5\n",
      "Enter radius of Circle: 2\n",
      "Area of Square is:  25 cm²\n",
      "Area of Circle is:  12.566370614359172 cm²\n",
      "The remaining area is:  12.433629385640828 cm²\n"
     ]
    }
   ],
   "source": [
    "from math import pi\n",
    "def area(l,r):    \n",
    "    areaSquare = l**2\n",
    "    print(\"Area of Square is: \",areaSquare,\"cm\\u00b2\")\n",
    "    areaCircle = pi * r**2\n",
    "    print(\"Area of Circle is: \",areaCircle,\"cm\\u00b2\")\n",
    "    if areaSquare > areaCircle:\n",
    "        x = areaSquare - areaCircle\n",
    "        print(\"The remaining area is: \",x,\"cm\\u00b2\")\n",
    "    else:\n",
    "        x = areaCircle - areaSquare\n",
    "        print(\"The remaining area is: \",x,\"cm\\u00b2\")\n",
    "    return\n",
    "l = eval(input(\"Enter Length square: \"))\n",
    "r = eval(input(\"Enter radius of Circle: \"))\n",
    "area(l,r)"
   ]
  }
 ],
 "metadata": {
  "kernelspec": {
   "display_name": "Python 3",
   "language": "python",
   "name": "python3"
  },
  "language_info": {
   "codemirror_mode": {
    "name": "ipython",
    "version": 3
   },
   "file_extension": ".py",
   "mimetype": "text/x-python",
   "name": "python",
   "nbconvert_exporter": "python",
   "pygments_lexer": "ipython3",
   "version": "3.7.3"
  }
 },
 "nbformat": 4,
 "nbformat_minor": 2
}
