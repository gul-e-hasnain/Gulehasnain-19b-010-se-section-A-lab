{
 "cells": [
  {
   "cell_type": "markdown",
   "metadata": {},
   "source": [
    "# Gul e Hasnain 19B-010-SE Section - A (Lab 04)"
   ]
  },
  {
   "cell_type": "code",
   "execution_count": 4,
   "metadata": {},
   "outputs": [
    {
     "name": "stdout",
     "output_type": "stream",
     "text": [
      "The value of a is equal to 400\n",
      "The value of a is less than b\n",
      "The value of a is not equal to b\n",
      "The value of a is less than or equal to b\n"
     ]
    }
   ],
   "source": [
    "# program 1\n",
    "# part a\n",
    "a = 400\n",
    "b = 500\n",
    "if a == 400:\n",
    "    print(\"The value of a is equal to 400\")\n",
    "if a < b:\n",
    "    print(\"The value of a is less than b\")\n",
    "if a > b:\n",
    "    print(\"The value of a is greater than b\")\n",
    "if a != b:\n",
    "    print(\"The value of a is not equal to b\")\n",
    "if a <= b:\n",
    "    print(\"The value of a is less than or equal to b\")\n",
    "if a >= b:\n",
    "    print(\"The value of a is grater than and equal to b\")"
   ]
  },
  {
   "cell_type": "code",
   "execution_count": 3,
   "metadata": {},
   "outputs": [
    {
     "name": "stdout",
     "output_type": "stream",
     "text": [
      "The value of a is greater than b\n",
      "The value of a is not equal to b\n",
      "The value of a is grater than and equal to b\n"
     ]
    }
   ],
   "source": [
    "# part b\n",
    "a = 500\n",
    "b = 400\n",
    "if a == 400:\n",
    "    print(\"The value of a is equal to 400\")\n",
    "if a < b:\n",
    "    print(\"The value of a is less than b\")\n",
    "if a > b:\n",
    "    print(\"The value of a is greater than b\")\n",
    "if a != b:\n",
    "    print(\"The value of a is not equal to b\")\n",
    "if a <= b:\n",
    "    print(\"The value of a is less than or equal to b\")\n",
    "if a >= b:\n",
    "    print(\"The value of a is grater than and equal to b\")"
   ]
  },
  {
   "cell_type": "code",
   "execution_count": 5,
   "metadata": {},
   "outputs": [
    {
     "name": "stdout",
     "output_type": "stream",
     "text": [
      "Both conditions are True\n"
     ]
    }
   ],
   "source": [
    "# program 2\n",
    "a = 10\n",
    "b = 5\n",
    "c = 20\n",
    "if a > b and c > a:\n",
    "    print(\"Both conditions are True\")"
   ]
  },
  {
   "cell_type": "code",
   "execution_count": 6,
   "metadata": {},
   "outputs": [
    {
     "name": "stdout",
     "output_type": "stream",
     "text": [
      "At least one of the conditions are True\n"
     ]
    }
   ],
   "source": [
    "# program 3\n",
    "a = 105\n",
    "b = 50\n",
    "c = 200\n",
    "if a > b or a > c:\n",
    "    print(\"At least one of the conditions are True\")"
   ]
  },
  {
   "cell_type": "code",
   "execution_count": 22,
   "metadata": {},
   "outputs": [
    {
     "name": "stdout",
     "output_type": "stream",
     "text": [
      "Enter lower limit range: 1\n",
      "Enter upper limit range: 10\n",
      "prime numbers between 1 and 10 are: \n",
      "2\n",
      "3\n",
      "5\n",
      "7\n"
     ]
    }
   ],
   "source": [
    "# program 4\n",
    "# Python program to display all the prime numbers within the interval\n",
    "l_limit = int(input(\"Enter lower limit range: \"))\n",
    "u_limit = int(input(\"Enter upper limit range: \"))\n",
    "print(\"prime numbers between\", l_limit, \"and\", u_limit, \"are: \")\n",
    "for number in range(l_limit,u_limit + 1):\n",
    "    if number > 1:\n",
    "        for i in range(2,number):\n",
    "            if(number % i) == 0:\n",
    "                break\n",
    "        else:\n",
    "                print(number)"
   ]
  },
  {
   "cell_type": "code",
   "execution_count": 9,
   "metadata": {},
   "outputs": [
    {
     "name": "stdout",
     "output_type": "stream",
     "text": [
      "Enter the initial value for the range: 1\n",
      "Enter the final value for the range: 6\n",
      "the sum is 15\n"
     ]
    }
   ],
   "source": [
    "# program 5\n",
    "initial_value = eval(input(\"Enter the initial value for the range: \"))\n",
    "final_value = eval(input(\"Enter the final value for the range: \"))\n",
    "numbers = range(initial_value,final_value)\n",
    "Sum = 0\n",
    "for value in numbers:\n",
    "    sum = sum + value\n",
    "print(\"the sum is\", sum)"
   ]
  },
  {
   "cell_type": "code",
   "execution_count": 11,
   "metadata": {},
   "outputs": [
    {
     "name": "stdout",
     "output_type": "stream",
     "text": [
      "Input the numbers of rows: 2\n",
      "Input thr numbers of columns: 3\n",
      "[[0, 0, 0], [0, 1, 2]]\n"
     ]
    }
   ],
   "source": [
    "# program 6\n",
    "row_num = int(input(\"Input the numbers of rows: \"))\n",
    "col_num = int(input(\"Input thr numbers of columns: \"))\n",
    "multi_list = [[0 for col in range (col_num)] for row in range(row_num)]\n",
    "\n",
    "for row in range(row_num):\n",
    "    for col in range(col_num):\n",
    "        multi_list[row][col] = row * col\n",
    "        \n",
    "print(multi_list)"
   ]
  },
  {
   "cell_type": "code",
   "execution_count": 13,
   "metadata": {},
   "outputs": [
    {
     "name": "stdout",
     "output_type": "stream",
     "text": [
      "Type of 300 is <class 'int'>\n",
      "Type of 12.65 is <class 'float'>\n",
      "Type of (5+6j) is <class 'complex'>\n",
      "Type of True is <class 'bool'>\n",
      "Type of faisal is <class 'str'>\n",
      "Type of (5, -7) is <class 'tuple'>\n",
      "Type of [8, 52] is <class 'list'>\n",
      "Type of {'color': 'red'} is <class 'dict'>\n"
     ]
    }
   ],
   "source": [
    "# program 7\n",
    "datalist = [300, 12.65, 5+6j, True, 'faisal', (5, -7), [8, 52], {\"color\" : 'blue', \"color\" : 'red'}]\n",
    "for item in datalist:\n",
    "    print(\"Type of\", item, \"is\", type(item))"
   ]
  },
  {
   "cell_type": "code",
   "execution_count": 15,
   "metadata": {},
   "outputs": [
    {
     "name": "stdout",
     "output_type": "stream",
     "text": [
      "\t\t\t ASCII Character\n",
      "0 = \u0000\t1 = \u0001\t2 = \u0002\t3 = \u0003\t4 = \u0004\t5 = \u0005\t6 = \u0006\t7 = \u0007\t8 = \b\t9 = \t\t10 = \n",
      "\t11 = \u000b",
      "\t12 = \f",
      "\t13 = \r",
      "\t14 = \u000e\t15 = \u000f\t16 = \u0010\t17 = \u0011\t18 = \u0012\t19 = \u0013\t20 = \u0014\t21 = \u0015\t22 = \u0016\t23 = \u0017\t24 = \u0018\t25 = \u0019\t26 = \u001a\t27 = \u001b\t28 = \u001c",
      "\t29 = \u001d",
      "\t30 = \u001e",
      "\t31 = \u001f\t32 =  \t33 = !\t34 = \"\t35 = #\t36 = $\t37 = %\t38 = &\t39 = '\t40 = (\t41 = )\t42 = *\t43 = +\t44 = ,\t45 = -\t46 = .\t47 = /\t48 = 0\t49 = 1\t50 = 2\t51 = 3\t52 = 4\t53 = 5\t54 = 6\t55 = 7\t56 = 8\t57 = 9\t58 = :\t59 = ;\t60 = <\t61 = =\t62 = >\t63 = ?\t64 = @\t65 = A\t66 = B\t67 = C\t68 = D\t69 = E\t70 = F\t71 = G\t72 = H\t73 = I\t74 = J\t75 = K\t76 = L\t77 = M\t78 = N\t79 = O\t80 = P\t81 = Q\t82 = R\t83 = S\t84 = T\t85 = U\t86 = V\t87 = W\t88 = X\t89 = Y\t90 = Z\t91 = [\t92 = \\\t93 = ]\t94 = ^\t95 = _\t96 = `\t97 = a\t98 = b\t99 = c\t100 = d\t101 = e\t102 = f\t103 = g\t104 = h\t105 = i\t106 = j\t107 = k\t108 = l\t109 = m\t110 = n\t111 = o\t112 = p\t113 = q\t114 = r\t115 = s\t116 = t\t117 = u\t118 = v\t119 = w\t120 = x\t121 = y\t122 = z\t123 = {\t124 = |\t125 = }\t126 = ~\t127 = \t128 = \t129 = \t130 = \t131 = \t132 = \t133 = ",
      "\t134 = \t135 = \t136 = \t137 = \t138 = \t139 = \t140 = \t141 = \t142 = \t143 = \t144 = \t145 = \t146 = \t147 = \t148 = \t149 = \t150 = \t151 = \t152 = \t153 = \t154 = \t155 = \t156 = \t157 = \t158 = \t159 = \t160 =  \t161 = ¡\t162 = ¢\t163 = £\t164 = ¤\t165 = ¥\t166 = ¦\t167 = §\t168 = ¨\t169 = ©\t170 = ª\t171 = «\t172 = ¬\t173 = ­\t174 = ®\t175 = ¯\t176 = °\t177 = ±\t178 = ²\t179 = ³\t180 = ´\t181 = µ\t182 = ¶\t183 = ·\t184 = ¸\t185 = ¹\t186 = º\t187 = »\t188 = ¼\t189 = ½\t190 = ¾\t191 = ¿\t192 = À\t193 = Á\t194 = Â\t195 = Ã\t196 = Ä\t197 = Å\t198 = Æ\t199 = Ç\t200 = È\t201 = É\t202 = Ê\t203 = Ë\t204 = Ì\t205 = Í\t206 = Î\t207 = Ï\t208 = Ð\t209 = Ñ\t210 = Ò\t211 = Ó\t212 = Ô\t213 = Õ\t214 = Ö\t215 = ×\t216 = Ø\t217 = Ù\t218 = Ú\t219 = Û\t220 = Ü\t221 = Ý\t222 = Þ\t223 = ß\t224 = à\t225 = á\t226 = â\t227 = ã\t228 = ä\t229 = å\t230 = æ\t231 = ç\t232 = è\t233 = é\t234 = ê\t235 = ë\t236 = ì\t237 = í\t238 = î\t239 = ï\t240 = ð\t241 = ñ\t242 = ò\t243 = ó\t244 = ô\t245 = õ\t246 = ö\t247 = ÷\t248 = ø\t249 = ù\t250 = ú\t251 = û\t252 = ü\t253 = ý\t254 = þ\t255 = ÿ\t\n",
      "\n"
     ]
    }
   ],
   "source": [
    "# program 8\n",
    "print(\"\\t\\t\\t ASCII Character\")\n",
    "\n",
    "for i in range(0, 256):\n",
    "    print(i, \"=\", chr(i), end = \"\\t\") # end=\"/t\" is used to place a tab after the displayed string instead of a new line.\n",
    "print(\"\\n\")"
   ]
  },
  {
   "cell_type": "code",
   "execution_count": 16,
   "metadata": {},
   "outputs": [
    {
     "name": "stdout",
     "output_type": "stream",
     "text": [
      "python program to convert decimal number into binary, octa and hexa-decimal number system\n",
      "The decimal value of 0 is:  in binary is:  0b0 in octal is:  0o0 and in hexa-decimal is:  0x0\n",
      "The decimal value of 1 is:  in binary is:  0b1 in octal is:  0o1 and in hexa-decimal is:  0x1\n",
      "The decimal value of 2 is:  in binary is:  0b10 in octal is:  0o2 and in hexa-decimal is:  0x2\n",
      "The decimal value of 3 is:  in binary is:  0b11 in octal is:  0o3 and in hexa-decimal is:  0x3\n",
      "The decimal value of 4 is:  in binary is:  0b100 in octal is:  0o4 and in hexa-decimal is:  0x4\n",
      "The decimal value of 5 is:  in binary is:  0b101 in octal is:  0o5 and in hexa-decimal is:  0x5\n",
      "The decimal value of 6 is:  in binary is:  0b110 in octal is:  0o6 and in hexa-decimal is:  0x6\n",
      "The decimal value of 7 is:  in binary is:  0b111 in octal is:  0o7 and in hexa-decimal is:  0x7\n",
      "The decimal value of 8 is:  in binary is:  0b1000 in octal is:  0o10 and in hexa-decimal is:  0x8\n",
      "The decimal value of 9 is:  in binary is:  0b1001 in octal is:  0o11 and in hexa-decimal is:  0x9\n",
      "The decimal value of 10 is:  in binary is:  0b1010 in octal is:  0o12 and in hexa-decimal is:  0xa\n",
      "The decimal value of 11 is:  in binary is:  0b1011 in octal is:  0o13 and in hexa-decimal is:  0xb\n",
      "The decimal value of 12 is:  in binary is:  0b1100 in octal is:  0o14 and in hexa-decimal is:  0xc\n",
      "The decimal value of 13 is:  in binary is:  0b1101 in octal is:  0o15 and in hexa-decimal is:  0xd\n",
      "The decimal value of 14 is:  in binary is:  0b1110 in octal is:  0o16 and in hexa-decimal is:  0xe\n",
      "The decimal value of 15 is:  in binary is:  0b1111 in octal is:  0o17 and in hexa-decimal is:  0xf\n",
      "The decimal value of 16 is:  in binary is:  0b10000 in octal is:  0o20 and in hexa-decimal is:  0x10\n",
      "That's the end of the program with range from 1 to 16\n"
     ]
    }
   ],
   "source": [
    "# program 9\n",
    "print(\"python program to convert decimal number into binary, octa and hexa-decimal number system\")\n",
    "\n",
    "for i in range(0, 17):\n",
    "    print(\"The decimal value of\", i, \"is: \", \"in binary is: \",bin(i), \"in octal is: \",oct(i), \n",
    "          \"and in hexa-decimal is: \",hex(i))\n",
    "print(\"That's the end of the program with range from 1 to 16\")"
   ]
  },
  {
   "cell_type": "code",
   "execution_count": 19,
   "metadata": {},
   "outputs": [
    {
     "name": "stdout",
     "output_type": "stream",
     "text": [
      "\n",
      "* \n",
      "* * \n",
      "* * * \n",
      "* * * * \n",
      "* * * * * \n",
      "* * * * \n",
      "* * * \n",
      "* * \n",
      "* \n"
     ]
    }
   ],
   "source": [
    "# program 10\n",
    "n = 5\n",
    "for i in range(n):\n",
    "    for j in range(i):\n",
    "        print('* ', end = \"\")\n",
    "    print(\"\")\n",
    "          \n",
    "for i in range(n,0,-1):\n",
    "    for j in range(i):\n",
    "        print('* ', end = \"\")\n",
    "    print(\"\")"
   ]
  },
  {
   "cell_type": "code",
   "execution_count": 21,
   "metadata": {},
   "outputs": [
    {
     "name": "stdout",
     "output_type": "stream",
     "text": [
      "This program will count total number of vowels from user defined sentence\n",
      "Enter your string: Gul e hasnain\n",
      "Number of vowels are: \n",
      "5\n"
     ]
    }
   ],
   "source": [
    "# program 11\n",
    "print(\"This program will count total number of vowels from user defined sentence\")\n",
    "string = input(\"Enter your string: \")\n",
    "vowels = 0\n",
    "for i in string:\n",
    "    if (i == 'a' or i == 'e' or i == 'i' or i == 'u' or i == 'o' or i == 'A' or i == 'E' or i == 'I' or i == 'O' or i == 'U'):\n",
    "        vowels = vowels + 1\n",
    "print(\"Number of vowels are: \")\n",
    "print(vowels)\n",
    "    "
   ]
  }
 ],
 "metadata": {
  "kernelspec": {
   "display_name": "Python 3",
   "language": "python",
   "name": "python3"
  },
  "language_info": {
   "codemirror_mode": {
    "name": "ipython",
    "version": 3
   },
   "file_extension": ".py",
   "mimetype": "text/x-python",
   "name": "python",
   "nbconvert_exporter": "python",
   "pygments_lexer": "ipython3",
   "version": "3.7.3"
  }
 },
 "nbformat": 4,
 "nbformat_minor": 2
}
