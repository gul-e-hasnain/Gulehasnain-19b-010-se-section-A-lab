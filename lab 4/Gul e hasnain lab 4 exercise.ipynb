{
 "cells": [
  {
   "cell_type": "markdown",
   "metadata": {},
   "source": [
    "# Gul e hasnain 19B-010-SE Section - A Lab 04 exercise"
   ]
  },
  {
   "cell_type": "code",
   "execution_count": 3,
   "metadata": {},
   "outputs": [
    {
     "name": "stdout",
     "output_type": "stream",
     "text": [
      "Input the value of a: 1\n",
      "Input the value of b: 5\n",
      "Input the value of c: 6\n",
      "The two values of x are:  (-4.5+0j)   (-5.5+0j)\n"
     ]
    }
   ],
   "source": [
    "# ex 1\n",
    "from math import sqrt\n",
    "import cmath\n",
    "a = eval(input(\"Input the value of a: \"))\n",
    "b = eval(input(\"Input the value of b: \"))\n",
    "c = eval(input(\"Input the value of c: \"))\n",
    "if a == 0:\n",
    "    print(\"equation cannot be solved\")\n",
    "elif (b < a and b < c) or (b > a and b < c):\n",
    "    d = (b**2) - (4*a*c)\n",
    "    x = -b + cmath.sqrt(d) / (2*a)\n",
    "    y = -b - cmath.sqrt(d) / (2*a)\n",
    "    print(\"The two values of x are: \",x,\" \", y)\n",
    "else:\n",
    "    d = (b**2) - (4 * a * c)\n",
    "    x = -b + sqrt(d) /(2*a)\n",
    "    x = -b - sqrt(d) /(2*a)\n",
    "    print(\"The two values of x are: \",x, \" \", y)"
   ]
  },
  {
   "cell_type": "code",
   "execution_count": 1,
   "metadata": {},
   "outputs": [
    {
     "name": "stdout",
     "output_type": "stream",
     "text": [
      "Enter the first term of the sequence: 3\n",
      "Enter the common difference of the sequence: 6\n",
      "Do you want to find the nth term Yes or No: YES\n",
      "Enter the nth term you want to find: 35\n",
      "207\n",
      "Do you want to find another nth term of the sequence: YeS\n",
      "Enter the nth term you want to find: 45\n",
      "267\n",
      "Do you want to find another nth term of the sequence: YEs\n",
      "Enter the nth term you want to find: 96\n",
      "573\n",
      "Do you want to find another nth term of the sequence: no\n"
     ]
    },
    {
     "data": {
      "text/plain": [
       "('The answer of the nth term you entered is: ', 573)"
      ]
     },
     "execution_count": 1,
     "metadata": {},
     "output_type": "execute_result"
    }
   ],
   "source": [
    "# exercise 2\n",
    "def sequence(a,d):\n",
    "    x = str(input(\"Do you want to find the nth term Yes or No: \"))\n",
    "    y = x.casefold()\n",
    "    #print(y)\n",
    "    while(y == \"yes\"):\n",
    "        n = int(input(\"Enter the nth term you want to find: \"))\n",
    "        tn = a + ((n - 1) * d)\n",
    "        print(tn)\n",
    "        x = input(\"Do you want to find another nth term of the sequence: \")\n",
    "        y = x.casefold()\n",
    "    return \"The answer of the nth term you entered is: \", tn\n",
    "a = int(input(\"Enter the first term of the sequence: \"))\n",
    "d = int(input(\"Enter the common difference of the sequence: \"))\n",
    "sequence(a,d)"
   ]
  },
  {
   "cell_type": "code",
   "execution_count": 51,
   "metadata": {},
   "outputs": [
    {
     "name": "stdout",
     "output_type": "stream",
     "text": [
      "Enter the text you want to check for palindrome: civic\n",
      "Yes your string is palindrome\n"
     ]
    }
   ],
   "source": [
    "# exercise 3\n",
    "text = input(\"Enter the text you want to check for palindrome: \")\n",
    "x = text.casefold()\n",
    "#print(x)\n",
    "y = len(text)\n",
    "z = text[y::-1]\n",
    "#print(z)\n",
    "if x == z:\n",
    "    print(\"Yes your string is palindrome\")\n",
    "else:\n",
    "    print(\"Sorry! your string is not palindrome\")"
   ]
  },
  {
   "cell_type": "code",
   "execution_count": null,
   "metadata": {},
   "outputs": [
    {
     "name": "stdout",
     "output_type": "stream",
     "text": [
      "Name: Gul e hasnain\n",
      "Father Name: Waseem\n",
      "Roll No: 010\n",
      "Date of Birth: 22 January 2000\n",
      "Enter your Math marks: 90\n",
      "Enter your Physics marks: 89\n",
      "Enter your Computer marks: 87\n",
      "Enter your Urdu marks: 78\n"
     ]
    }
   ],
   "source": [
    "# exercise 4\n",
    "name = str(input(\"Name: \"))\n",
    "father_name = str(input(\"Father Name: \"))\n",
    "roll_no = int(input(\"Roll No: \"))\n",
    "date_of_birth = str(input(\"Date of Birth: \"))\n",
    "maths = eval(input(\"Enter your Math marks: \"))\n",
    "phy = eval(input(\"Enter your Physics marks: \"))\n",
    "comp = eval(input(\"Enter your Computer marks: \"))\n",
    "urdu = eval(input(\"Enter your Urdu marks: \"))\n",
    "isl = eval(input(\"Enter your Islamiat marks: \"))\n",
    "total_marks = 500\n",
    "total_num = (maths + phy + comp + isl + urdu)\n",
    "percentage = (total_num / total_marks) * 100\n",
    "if percentage >= 90:\n",
    "    grade = \"A+\"\n",
    "elif percentage >= 80 and percentage < 90:\n",
    "    grade = \"A\"\n",
    "elif percentage >= 70 and percentage < 80:\n",
    "    grade = \"B\"\n",
    "elif percentage >= 60 and percentage < 50:\n",
    "    grade = \"c\"\n",
    "elif percentage >= 50 and percentage < 40:\n",
    "    grade = \"D\"\n",
    "else:\n",
    "    grade = \"F\"\n",
    "print(\"\\n\")\n",
    "print(\"----------------------------------------------------------------------------------------------------------\")\n",
    "print(\"\\t\\t\\t\\t\\tBoard of Secondary Education, Karachi \\n\\t\\t\\t\\t\\t\\t STATEMENT OF MARKS \\n\\t\\t\\t\\t\\t\\t F.S.C EXAMINATION \\n\\n\\t\\t\\t\\t\\t\\t SCIENCE GROUP\")\n",
    "print(\"----------------------------------------------------------------------------------------------------------\")\n",
    "print(\"Name: \", name, \"\\t Father Name: \",father_name, \"\\t Roll No: \",roll_no, \"\\t Date of birth: \", date_of_birth,)\n",
    "print(\"----------------------------------------------------------------------------------------------------------\")\n",
    "print(\"\\n\")\n",
    "print(\"\\t\\t\\t\\t\\t Maths:   \", maths,\" | 100\\n\\t\\t\\t\\t\\t Physics: \",phy,\" | 100\\n\\t\\t\\t\\t\\t Computer:\",comp,\" | 100 \\n\\t\\t\\t\\t\\t Urdu:    \",urdu,\" | 100\\n\\t\\t\\t\\t\\t Islamiat:\",isl,    \" | 100\")\n",
    "print(\"----------------------------------------------------------------------------------------------------------\")\n",
    "print(\"\\tTotal: \",total_num, \"\\t | Percentage: \", percentage, \"% \\t | Grade: \", grade)\n",
    "print(\"----------------------------------------------------------------------------------------------------------\")"
   ]
  },
  {
   "cell_type": "code",
   "execution_count": 1,
   "metadata": {},
   "outputs": [
    {
     "name": "stdout",
     "output_type": "stream",
     "text": [
      "input the number of rows: 5\n",
      "input the number of columns: 5\n",
      "Enter the entries row wise: \n",
      "1\n",
      "2\n",
      "3\n",
      "4\n",
      "5\n",
      "2\n",
      "4\n",
      "6\n",
      "8\n",
      "10\n",
      "3\n",
      "6\n",
      "9\n",
      "12\n",
      "15\n",
      "4\n",
      "8\n",
      "12\n",
      "16\n",
      "20\n",
      "5\n",
      "10\n",
      "15\n",
      "20\n",
      "25\n",
      "1 2 3 4 5 \n",
      "2 4 6 8 10 \n",
      "3 6 9 12 15 \n",
      "4 8 12 16 20 \n",
      "5 10 15 20 25 \n"
     ]
    }
   ],
   "source": [
    "# Exercise 5\n",
    "row_num = int(input(\"input the number of rows: \"))\n",
    "col_num = int(input(\"input the number of columns: \"))\n",
    "\n",
    "matrix = []\n",
    "print(\"Enter the entries row wise: \")\n",
    "for row in range(row_num):\n",
    "    a = []\n",
    "    for col in range(col_num):\n",
    "        a.append(int(input()))\n",
    "    matrix.append(a)\n",
    "\n",
    "for row in range(row_num):\n",
    "    for col in range(col_num):\n",
    "        print(matrix[row][col], end = \" \")\n",
    "    print()"
   ]
  },
  {
   "cell_type": "code",
   "execution_count": 23,
   "metadata": {},
   "outputs": [
    {
     "name": "stdout",
     "output_type": "stream",
     "text": [
      "[4, 6, 4]\n",
      "[6, 8, 4]\n",
      "[7, 8, 5]\n"
     ]
    }
   ],
   "source": [
    "# Exercise 6\n",
    "x = [[1, 2, 2],[2, 3, 2],[2, 4, 2]]\n",
    "\n",
    "y = [[3, 4, 2],[4, 5, 2],[5, 4, 3]]\n",
    "\n",
    "result = [[0, 0, 0],[0, 0, 0],[0, 0, 0]]\n",
    "\n",
    "for i in range(len(x)):\n",
    "    for j in range(len(y)):\n",
    "        result[i][j]= x[i][j] + y[i][j]\n",
    "\n",
    "for r in result:\n",
    "    print(r)"
   ]
  },
  {
   "cell_type": "code",
   "execution_count": 36,
   "metadata": {},
   "outputs": [
    {
     "name": "stdout",
     "output_type": "stream",
     "text": [
      "[5, 14]\n",
      "[18, 32]\n"
     ]
    }
   ],
   "source": [
    "# Exercise 7\n",
    "x = [[1,2],[3,4]]\n",
    "\n",
    "y = [[5,6],[7,8]]\n",
    "\n",
    "result = [[0,0],[0,0]]\n",
    "for i in range(len(x)):\n",
    "    #print(i)\n",
    "    for j in range(len(y[0])):\n",
    "        #print(y)\n",
    "        result[i][j] = x[i][j] * y[j][i]\n",
    "\n",
    "for r in result:\n",
    "    print(r)"
   ]
  }
 ],
 "metadata": {
  "kernelspec": {
   "display_name": "Python 3",
   "language": "python",
   "name": "python3"
  },
  "language_info": {
   "codemirror_mode": {
    "name": "ipython",
    "version": 3
   },
   "file_extension": ".py",
   "mimetype": "text/x-python",
   "name": "python",
   "nbconvert_exporter": "python",
   "pygments_lexer": "ipython3",
   "version": "3.7.3"
  }
 },
 "nbformat": 4,
 "nbformat_minor": 2
}
